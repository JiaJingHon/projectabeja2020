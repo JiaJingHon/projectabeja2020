{
 "cells": [
  {
   "cell_type": "code",
   "execution_count": null,
   "metadata": {},
   "outputs": [],
   "source": [
    "Hon Jia Jing\n",
    "e0324929@u.nus.edu"
   ]
  },
  {
   "cell_type": "code",
   "execution_count": 13,
   "metadata": {},
   "outputs": [],
   "source": [
    "#library imports\n",
    "import numpy as np\n",
    "import pylab as plt\n",
    "import time as time #for timing\n",
    "from sklearn import linear_model\n",
    "import pandas as pd"
   ]
  },
  {
   "cell_type": "code",
   "execution_count": 57,
   "metadata": {},
   "outputs": [],
   "source": [
    "#QN 1.1\n",
    "rm= np.random.normal(loc=0,scale=1,size=(2000,2000))\n",
    "rm.dump(\"DSA4212\")"
   ]
  },
  {
   "cell_type": "code",
   "execution_count": 21,
   "metadata": {},
   "outputs": [],
   "source": [
    "#QN 1.2\n",
    "rm2= np.random.normal(loc=0,scale=1,size=(2000,2000))\n",
    "rm2.dump(\"DSA4212_10000\")\n"
   ]
  },
  {
   "cell_type": "code",
   "execution_count": 18,
   "metadata": {},
   "outputs": [
    {
     "data": {
      "text/plain": [
       "Text(0, 0.5, 'log time')"
      ]
     },
     "execution_count": 18,
     "metadata": {},
     "output_type": "execute_result"
    },
    {
     "data": {
      "image/png": "[encoded data removed]",
      "text/plain": [
       "<Figure size 432x288 with 1 Axes>"
      ]
     },
     "metadata": {
      "needs_background": "light"
     },
     "output_type": "display_data"
    }
   ],
   "source": [
    "#QN 2.1\n",
    "import math\n",
    "d=[50,100,200,400,800,1600,3200,6400]\n",
    "for i in d:\n",
    "  mat=np.random.normal(loc=0,scale=1,size=(i,i))\n",
    "  start=time.time()\n",
    "  mat@mat\n",
    "  end= time.time()\n",
    "  time_= end-start\n",
    "  plt.plot(math.log(i),math.log(time_),\"-s\")\n",
    "plt.xlabel(\"log d\")\n",
    "plt.ylabel(\"log time\")"
   ]
  },
  {
   "cell_type": "code",
   "execution_count": 19,
   "metadata": {},
   "outputs": [
    {
     "data": {
      "text/plain": [
       "Text(0, 0.5, 'log time')"
      ]
     },
     "execution_count": 19,
     "metadata": {},
     "output_type": "execute_result"
    },
    {
     "data": {
      "image/png": "[encoded data removed]",
      "text/plain": [
       "<Figure size 432x288 with 1 Axes>"
      ]
     },
     "metadata": {
      "needs_background": "light"
     },
     "output_type": "display_data"
    }
   ],
   "source": [
    "#QN 2.2\n",
    "for i in d:\n",
    "  mat=np.random.normal(loc=0,scale=1,size=(i,i))\n",
    "  start=time.time()\n",
    "  np.linalg.inv(mat)\n",
    "  end= time.time()\n",
    "  time_= end-start\n",
    "  plt.plot(math.log(i),math.log(time_),\"-s\")\n",
    "plt.xlabel(\"log d\")\n",
    "plt.ylabel(\"log time\")"
   ]
  },
  {
   "cell_type": "code",
   "execution_count": 20,
   "metadata": {},
   "outputs": [],
   "source": [
    "#QN 2.3\n",
    "total=[]\n",
    "for i in d:\n",
    "  mat=np.random.normal(loc=0,scale=1,size=(i,i))\n",
    "  start=time.time()\n",
    "  np.linalg.inv(mat)\n",
    "  end= time.time()\n",
    "  total.append(end-start)\n"
   ]
  },
  {
   "cell_type": "code",
   "execution_count": 56,
   "metadata": {},
   "outputs": [],
   "source": [
    "lm=linear_model.LinearRegression()\n",
    "train=pd.DataFrame(list(zip(d,total)),columns=['dim','time'])\n",
    "\n",
    "#model=lm.fit(train.loc[:'dim'],train.loc[:'time'])\n",
    "model=lm.fit(np.array(d).reshape(-1,1),total)\n",
    "result=model.predict([[50000]])\n",
    "\n",
    "\n"
   ]
  },
  {
   "cell_type": "code",
   "execution_count": 53,
   "metadata": {},
   "outputs": [
    {
     "data": {
      "text/plain": [
       "array([40.0375363])"
      ]
     },
     "execution_count": 53,
     "metadata": {},
     "output_type": "execute_result"
    }
   ],
   "source": [
    "result"
   ]
  },
  {
   "cell_type": "code",
   "execution_count": 12,
   "metadata": {},
   "outputs": [
    {
     "data": {
      "text/plain": [
       "1.051077296178659"
      ]
     },
     "execution_count": 12,
     "metadata": {},
     "output_type": "execute_result"
    }
   ],
   "source": [
    "#QN 3.1\n",
    "u=np.random.random(10)\n",
    "v=np.random.random(10)\n",
    "angle=np.arccos(np.dot(u,v)/(np.linalg.norm(u)*np.linalg.norm(v)))\n",
    "angle"
   ]
  },
  {
   "cell_type": "code",
   "execution_count": null,
   "metadata": {},
   "outputs": [],
   "source": [
    "#QN 3.2\n",
    "m=create_random_orthogonal(10)\n",
    "mu=m@u\n",
    "mv=m@v\n",
    "angle2=np.arccos(np.dot(mu,mv)/(np.linalg.norm(mu)*np.linalg.norm(mv)))\n",
    "angle2"
   ]
  },
  {
   "cell_type": "code",
   "execution_count": null,
   "metadata": {},
   "outputs": [],
   "source": [
    "#QN 3.3\n",
    "inverse=np.linalg.inv(m)\n",
    "transpose=m.T"
   ]
  },
  {
   "cell_type": "code",
   "execution_count": null,
   "metadata": {},
   "outputs": [],
   "source": [
    "inverse"
   ]
  },
  {
   "cell_type": "code",
   "execution_count": null,
   "metadata": {},
   "outputs": [],
   "source": [
    "transpose"
   ]
  },
  {
   "cell_type": "code",
   "execution_count": null,
   "metadata": {},
   "outputs": [],
   "source": [
    "#QN 4\n",
    "eigv,M=np.linalg.eigh(S)\n",
    "D=np.diag(eigv)"
   ]
  },
  {
   "cell_type": "code",
   "execution_count": null,
   "metadata": {},
   "outputs": [],
   "source": [
    "#QN 5\n",
    "eigv,m=np.linalg.eigh(S)\n"
   ]
  },
  {
   "cell_type": "code",
   "execution_count": null,
   "metadata": {},
   "outputs": [],
   "source": [
    "eigv\n",
    "#since all eigenvalues are >=0, it is positive semi definite"
   ]
  },
  {
   "cell_type": "code",
   "execution_count": null,
   "metadata": {},
   "outputs": [],
   "source": [
    "x=np.random.random(d)"
   ]
  },
  {
   "cell_type": "code",
   "execution_count": null,
   "metadata": {},
   "outputs": [],
   "source": [
    "np.dot(x,S@x)"
   ]
  },
  {
   "cell_type": "code",
   "execution_count": null,
   "metadata": {},
   "outputs": [],
   "source": [
    "n=1\n",
    "while(n<=10000):\n",
    "  A = np.random.normal(loc=0., scale=1., size=(d,d)) #random matrix\n",
    "  S = A @ A.T\n",
    "  eigv,m=np.linalg.eigh(S)\n",
    "  for i in eigv:\n",
    "    if i<0:\n",
    "      break\n",
    "  x=np.random.random(d)\n",
    "  value=np.dot(x,S@x)\n",
    "  if value<0:\n",
    "    break\n",
    "  if n==10000:\n",
    "    print(\"True\")\n",
    "  n+=1"
   ]
  }
 ],
 "metadata": {
  "kernelspec": {
   "display_name": "Python 3",
   "language": "python",
   "name": "python3"
  },
  "language_info": {
   "codemirror_mode": {
    "name": "ipython",
    "version": 3
   },
   "file_extension": ".py",
   "mimetype": "text/x-python",
   "name": "python",
   "nbconvert_exporter": "python",
   "pygments_lexer": "ipython3",
   "version": "3.7.4"
  }
 },
 "nbformat": 4,
 "nbformat_minor": 2
}
